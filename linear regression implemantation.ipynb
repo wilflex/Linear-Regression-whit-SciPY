{
 "cells": [
  {
   "cell_type": "markdown",
   "metadata": {},
   "source": [
    "<br>\n",
    "<CENTER><font size=\"+5\" color='#000000'><b>Regression Linéaire avec Scipy</b></font></CENTER>\n"
   ]
  },
  {
   "cell_type": "code",
   "execution_count": 14,
   "metadata": {},
   "outputs": [],
   "source": [
    "import numpy as np \n",
    "import pandas as pd\n",
    "import matplotlib.pyplot as plt\n",
    "import scipy.optimize as opt\n",
    "from scipy import stats as st\n",
    "from MyModule import Processing \n",
    "from MyModule import load_dataset as load\n",
    "import statsmodels.api as sm\n",
    "import warnings\n",
    "import seaborn as sns\n",
    "warnings.filterwarnings('ignore')\n",
    "sns.set(style='darkgrid')"
   ]
  },
  {
   "cell_type": "markdown",
   "metadata": {},
   "source": [
    "``learning source`` : https://bayeswhu.github.io/teaching.html"
   ]
  },
  {
   "cell_type": "code",
   "execution_count": 15,
   "metadata": {},
   "outputs": [],
   "source": [
    "df = load('Advertising.csv',shuffle=True)\n",
    "proc = Processing(df)"
   ]
  },
  {
   "cell_type": "code",
   "execution_count": 16,
   "metadata": {},
   "outputs": [
    {
     "name": "stdout",
     "output_type": "stream",
     "text": [
      "===========================================================================\n",
      "Statistique données manquante                            colonnes: 5\n",
      "---------------------------------------------------------------------------\n",
      "            missing value % of missing value data dtypes  Obs\n",
      "Unnamed: 0              0               0.0%       int64  200\n",
      "TV                      0               0.0%     float64  200\n",
      "radio                   0               0.0%     float64  200\n",
      "newspaper               0               0.0%     float64  200\n",
      "sales                   0               0.0%     float64  200\n",
      "===========================================================================\n"
     ]
    }
   ],
   "source": [
    "proc.stat_missing_value()"
   ]
  },
  {
   "cell_type": "code",
   "execution_count": 17,
   "metadata": {},
   "outputs": [
    {
     "data": {
      "text/html": [
       "<div>\n",
       "<style scoped>\n",
       "    .dataframe tbody tr th:only-of-type {\n",
       "        vertical-align: middle;\n",
       "    }\n",
       "\n",
       "    .dataframe tbody tr th {\n",
       "        vertical-align: top;\n",
       "    }\n",
       "\n",
       "    .dataframe thead th {\n",
       "        text-align: right;\n",
       "    }\n",
       "</style>\n",
       "<table border=\"1\" class=\"dataframe\">\n",
       "  <thead>\n",
       "    <tr style=\"text-align: right;\">\n",
       "      <th></th>\n",
       "      <th>TV</th>\n",
       "      <th>radio</th>\n",
       "      <th>newspaper</th>\n",
       "      <th>sales</th>\n",
       "    </tr>\n",
       "  </thead>\n",
       "  <tbody>\n",
       "    <tr>\n",
       "      <th>0</th>\n",
       "      <td>219.8</td>\n",
       "      <td>33.5</td>\n",
       "      <td>45.1</td>\n",
       "      <td>19.6</td>\n",
       "    </tr>\n",
       "    <tr>\n",
       "      <th>1</th>\n",
       "      <td>151.5</td>\n",
       "      <td>41.3</td>\n",
       "      <td>58.5</td>\n",
       "      <td>18.5</td>\n",
       "    </tr>\n",
       "    <tr>\n",
       "      <th>2</th>\n",
       "      <td>75.3</td>\n",
       "      <td>20.3</td>\n",
       "      <td>32.5</td>\n",
       "      <td>11.3</td>\n",
       "    </tr>\n",
       "    <tr>\n",
       "      <th>3</th>\n",
       "      <td>224.0</td>\n",
       "      <td>2.4</td>\n",
       "      <td>15.6</td>\n",
       "      <td>11.6</td>\n",
       "    </tr>\n",
       "    <tr>\n",
       "      <th>4</th>\n",
       "      <td>261.3</td>\n",
       "      <td>42.7</td>\n",
       "      <td>54.7</td>\n",
       "      <td>24.2</td>\n",
       "    </tr>\n",
       "  </tbody>\n",
       "</table>\n",
       "</div>"
      ],
      "text/plain": [
       "      TV  radio  newspaper  sales\n",
       "0  219.8   33.5       45.1   19.6\n",
       "1  151.5   41.3       58.5   18.5\n",
       "2   75.3   20.3       32.5   11.3\n",
       "3  224.0    2.4       15.6   11.6\n",
       "4  261.3   42.7       54.7   24.2"
      ]
     },
     "execution_count": 17,
     "metadata": {},
     "output_type": "execute_result"
    }
   ],
   "source": [
    "df.drop('Unnamed: 0',axis=1,inplace=True)\n",
    "df.head()"
   ]
  },
  {
   "cell_type": "code",
   "execution_count": 18,
   "metadata": {},
   "outputs": [
    {
     "data": {
      "text/html": [
       "<div>\n",
       "<style scoped>\n",
       "    .dataframe tbody tr th:only-of-type {\n",
       "        vertical-align: middle;\n",
       "    }\n",
       "\n",
       "    .dataframe tbody tr th {\n",
       "        vertical-align: top;\n",
       "    }\n",
       "\n",
       "    .dataframe thead th {\n",
       "        text-align: right;\n",
       "    }\n",
       "</style>\n",
       "<table border=\"1\" class=\"dataframe\">\n",
       "  <thead>\n",
       "    <tr style=\"text-align: right;\">\n",
       "      <th></th>\n",
       "      <th>TV</th>\n",
       "      <th>radio</th>\n",
       "      <th>newspaper</th>\n",
       "      <th>sales</th>\n",
       "    </tr>\n",
       "  </thead>\n",
       "  <tbody>\n",
       "    <tr>\n",
       "      <th>count</th>\n",
       "      <td>200.000000</td>\n",
       "      <td>200.000000</td>\n",
       "      <td>200.000000</td>\n",
       "      <td>200.000000</td>\n",
       "    </tr>\n",
       "    <tr>\n",
       "      <th>mean</th>\n",
       "      <td>147.042500</td>\n",
       "      <td>23.264000</td>\n",
       "      <td>30.554000</td>\n",
       "      <td>14.022500</td>\n",
       "    </tr>\n",
       "    <tr>\n",
       "      <th>std</th>\n",
       "      <td>85.854236</td>\n",
       "      <td>14.846809</td>\n",
       "      <td>21.778621</td>\n",
       "      <td>5.217457</td>\n",
       "    </tr>\n",
       "    <tr>\n",
       "      <th>min</th>\n",
       "      <td>0.700000</td>\n",
       "      <td>0.000000</td>\n",
       "      <td>0.300000</td>\n",
       "      <td>1.600000</td>\n",
       "    </tr>\n",
       "    <tr>\n",
       "      <th>25%</th>\n",
       "      <td>74.375000</td>\n",
       "      <td>9.975000</td>\n",
       "      <td>12.750000</td>\n",
       "      <td>10.375000</td>\n",
       "    </tr>\n",
       "    <tr>\n",
       "      <th>50%</th>\n",
       "      <td>149.750000</td>\n",
       "      <td>22.900000</td>\n",
       "      <td>25.750000</td>\n",
       "      <td>12.900000</td>\n",
       "    </tr>\n",
       "    <tr>\n",
       "      <th>75%</th>\n",
       "      <td>218.825000</td>\n",
       "      <td>36.525000</td>\n",
       "      <td>45.100000</td>\n",
       "      <td>17.400000</td>\n",
       "    </tr>\n",
       "    <tr>\n",
       "      <th>max</th>\n",
       "      <td>296.400000</td>\n",
       "      <td>49.600000</td>\n",
       "      <td>114.000000</td>\n",
       "      <td>27.000000</td>\n",
       "    </tr>\n",
       "  </tbody>\n",
       "</table>\n",
       "</div>"
      ],
      "text/plain": [
       "               TV       radio   newspaper       sales\n",
       "count  200.000000  200.000000  200.000000  200.000000\n",
       "mean   147.042500   23.264000   30.554000   14.022500\n",
       "std     85.854236   14.846809   21.778621    5.217457\n",
       "min      0.700000    0.000000    0.300000    1.600000\n",
       "25%     74.375000    9.975000   12.750000   10.375000\n",
       "50%    149.750000   22.900000   25.750000   12.900000\n",
       "75%    218.825000   36.525000   45.100000   17.400000\n",
       "max    296.400000   49.600000  114.000000   27.000000"
      ]
     },
     "execution_count": 18,
     "metadata": {},
     "output_type": "execute_result"
    }
   ],
   "source": [
    "df.describe()"
   ]
  },
  {
   "cell_type": "code",
   "execution_count": 19,
   "metadata": {},
   "outputs": [
    {
     "data": {
      "text/html": [
       "<div>\n",
       "<style scoped>\n",
       "    .dataframe tbody tr th:only-of-type {\n",
       "        vertical-align: middle;\n",
       "    }\n",
       "\n",
       "    .dataframe tbody tr th {\n",
       "        vertical-align: top;\n",
       "    }\n",
       "\n",
       "    .dataframe thead th {\n",
       "        text-align: right;\n",
       "    }\n",
       "</style>\n",
       "<table border=\"1\" class=\"dataframe\">\n",
       "  <thead>\n",
       "    <tr style=\"text-align: right;\">\n",
       "      <th></th>\n",
       "      <th>TV</th>\n",
       "      <th>radio</th>\n",
       "      <th>newspaper</th>\n",
       "      <th>sales</th>\n",
       "    </tr>\n",
       "  </thead>\n",
       "  <tbody>\n",
       "    <tr>\n",
       "      <th>TV</th>\n",
       "      <td>1.000000</td>\n",
       "      <td>0.054809</td>\n",
       "      <td>0.056648</td>\n",
       "      <td>0.782224</td>\n",
       "    </tr>\n",
       "    <tr>\n",
       "      <th>radio</th>\n",
       "      <td>0.054809</td>\n",
       "      <td>1.000000</td>\n",
       "      <td>0.354104</td>\n",
       "      <td>0.576223</td>\n",
       "    </tr>\n",
       "    <tr>\n",
       "      <th>newspaper</th>\n",
       "      <td>0.056648</td>\n",
       "      <td>0.354104</td>\n",
       "      <td>1.000000</td>\n",
       "      <td>0.228299</td>\n",
       "    </tr>\n",
       "    <tr>\n",
       "      <th>sales</th>\n",
       "      <td>0.782224</td>\n",
       "      <td>0.576223</td>\n",
       "      <td>0.228299</td>\n",
       "      <td>1.000000</td>\n",
       "    </tr>\n",
       "  </tbody>\n",
       "</table>\n",
       "</div>"
      ],
      "text/plain": [
       "                 TV     radio  newspaper     sales\n",
       "TV         1.000000  0.054809   0.056648  0.782224\n",
       "radio      0.054809  1.000000   0.354104  0.576223\n",
       "newspaper  0.056648  0.354104   1.000000  0.228299\n",
       "sales      0.782224  0.576223   0.228299  1.000000"
      ]
     },
     "execution_count": 19,
     "metadata": {},
     "output_type": "execute_result"
    }
   ],
   "source": [
    "df.corr()"
   ]
  },
  {
   "cell_type": "code",
   "execution_count": 20,
   "metadata": {},
   "outputs": [
    {
     "data": {
      "image/png": "[encoded data removed]",
      "text/plain": [
       "<Figure size 432x288 with 2 Axes>"
      ]
     },
     "metadata": {},
     "output_type": "display_data"
    }
   ],
   "source": [
    "coef_price = [df['sales'].corr(df[c]) for c in df.select_dtypes([\"int64\",\"float64\"])]\n",
    "sns.heatmap(pd.DataFrame(data = np.array(coef_price),\n",
    "                         columns=[\"sales\"],\n",
    "                         index=[c for c in df.select_dtypes([\"int64\",\"float64\"])]))\n",
    "plt.yticks(rotation=0);"
   ]
  },
  {
   "cell_type": "code",
   "execution_count": null,
   "metadata": {},
   "outputs": [],
   "source": []
  },
  {
   "cell_type": "markdown",
   "metadata": {},
   "source": [
    "METHODE DE REGRESSION N°1 : $y \\sim \\beta x + a$\n",
    "=\n",
    "\n",
    "Regression basé sur scipy à travers l'utilisation ``curve_fit``"
   ]
  },
  {
   "cell_type": "code",
   "execution_count": 21,
   "metadata": {},
   "outputs": [],
   "source": [
    "class RegressionScipy(object):\n",
    "    \"\"\"\n",
    "    ---------\n",
    "    Attributs\n",
    "    ---------\n",
    "    guess : Integer\n",
    "        Paramètre d'initialisation\n",
    "    x : Float\n",
    "        vecteur de variables exogène\n",
    "    y : Float\n",
    "        vecteur de variable endogène  \n",
    "    --------\n",
    "    Méthodes\n",
    "    --------\n",
    "    linear_reg() :\n",
    "        Fournit une estimation des paramètres.\n",
    "    diagnostic_modele():\n",
    "        Fournit les diagnostic\n",
    "    \"\"\"  \n",
    "    def __init__(self,guess,y,x): \n",
    "        \"\"\"\n",
    "        Initialisation des paramèttres\n",
    "        \"\"\"\n",
    "        \n",
    "        self.guess = guess\n",
    "        self.x = x\n",
    "        self.y = y\n",
    "        \n",
    "        \n",
    "    def linear_reg(self,):\n",
    "        \"\"\" \n",
    "        Methode permettant d'estimer les paramettre du modele:\n",
    "        ---------\n",
    "        Resultat\n",
    "        ---------\n",
    "        - coefficient exogène : β\n",
    "        - intercept           : α\n",
    "        \"\"\" \n",
    "        def f(x,a,b):\n",
    "            return a*x+b\n",
    "        params,cov = opt.curve_fit(f,self.x,self.y,self.guess)\n",
    "        coef_exog = params[0]\n",
    "        intercept = params[1]\n",
    "        y_fit=f(self.x,coef_exog,intercept)\n",
    "        self.y_fit = y_fit\n",
    "        u = ((self.y - self.y_fit)**2).sum()\n",
    "        v = ((self.y - self.y.mean())**2).sum()\n",
    "        r = 1 - u/v\n",
    "        self.r = r\n",
    "        print(\"Les coefficients de regression obtenu sont :\")\n",
    "        for c,i in zip(['coefficient exogène','intercept'],[params[0].round(3),params[1].round(3)]):\n",
    "            print(\"- {:<20} : {}\".format(c,i))     \n",
    "    def diagnostic_modele(self,):\n",
    "        \"\"\" \n",
    "        Methode fournissant le diagnostic du modèle contenant\n",
    "        --------\n",
    "        Resultat\n",
    "        --------\n",
    "        - R²   : niveau de comprehention du phènomen par le modèle.\n",
    "        - Le niveau d'erreur entre Observation et Prédiction. \n",
    "        \"\"\"    \n",
    "        error = np.round(((self.y_fit - self.y)**2).sum() / self.y.shape[0],3)\n",
    "        self.error = error\n",
    "        R = str(np.round(self.r*100,3))+'%'\n",
    "    \n",
    "        print(\"_\"*65)\n",
    "        print(\"DIAGNOSTIC DU MODELE\")\n",
    "        print(\"-\"*65)\n",
    "        print(\"R² = {}\".format(R))\n",
    "        print(\"Le niveau d'erreur entre Observation et Prédiction est : {}\".format(error))\n",
    "        print(\"_\"*65)\n",
    "    def obs_pred_plot(self,):\n",
    "        corr = np.round(st.pearsonr(self.y,self.y_fit),3)\n",
    "        erreur = self.error\n",
    "        plt.figure()\n",
    "        plt.scatter(self.y,self.y_fit)\n",
    "        plt.xlabel('Observation')\n",
    "        plt.ylabel('Prediction')\n",
    "        plt.title(\"coefficient de corrélation = {}  |  p-val = {}  |  Erreur = {} \".format(corr[0],corr[1],erreur))\n",
    "        plt.figure()\n",
    "        plt.plot(figure=(6,4))\n",
    "        plt.plot(self.x,self.y_fit,'r-')\n",
    "        plt.scatter(self.x,self.y)\n",
    "        plt.xlabel('exogene')\n",
    "        plt.ylabel('endogene');"
   ]
  },
  {
   "cell_type": "code",
   "execution_count": 22,
   "metadata": {},
   "outputs": [],
   "source": [
    "y = df.sales.values\n",
    "x = df.TV.values"
   ]
  },
  {
   "cell_type": "code",
   "execution_count": 23,
   "metadata": {},
   "outputs": [],
   "source": [
    "lr = RegressionScipy((0,0),y,x)"
   ]
  },
  {
   "cell_type": "code",
   "execution_count": 24,
   "metadata": {},
   "outputs": [
    {
     "name": "stdout",
     "output_type": "stream",
     "text": [
      "Les coefficients de regression obtenu sont :\n",
      "- coefficient exogène  : 0.048\n",
      "- intercept            : 7.033\n"
     ]
    }
   ],
   "source": [
    "lr.linear_reg()"
   ]
  },
  {
   "cell_type": "code",
   "execution_count": 25,
   "metadata": {},
   "outputs": [
    {
     "name": "stdout",
     "output_type": "stream",
     "text": [
      "_________________________________________________________________\n",
      "DIAGNOSTIC DU MODELE\n",
      "-----------------------------------------------------------------\n",
      "R² = 61.188%\n",
      "Le niveau d'erreur entre Observation et Prédiction est : 10.513\n",
      "_________________________________________________________________\n"
     ]
    }
   ],
   "source": [
    "lr.diagnostic_modele()"
   ]
  },
  {
   "cell_type": "code",
   "execution_count": 13,
   "metadata": {},
   "outputs": [
    {
     "data": {
      "image/png": "[encoded data removed]",
      "text/plain": [
       "<Figure size 432x288 with 1 Axes>"
      ]
     },
     "metadata": {},
     "output_type": "display_data"
    },
    {
     "data": {
      "image/png": "[encoded data removed]",
      "text/plain": [
       "<Figure size 432x288 with 1 Axes>"
      ]
     },
     "metadata": {},
     "output_type": "display_data"
    }
   ],
   "source": [
    "lr.obs_pred_plot()"
   ]
  },
  {
   "cell_type": "code",
   "execution_count": null,
   "metadata": {},
   "outputs": [],
   "source": []
  }
 ],
 "metadata": {
  "kernelspec": {
   "display_name": "Python 3",
   "language": "python",
   "name": "python3"
  },
  "language_info": {
   "codemirror_mode": {
    "name": "ipython",
    "version": 3
   },
   "file_extension": ".py",
   "mimetype": "text/x-python",
   "name": "python",
   "nbconvert_exporter": "python",
   "pygments_lexer": "ipython3",
   "version": "3.7.1"
  }
 },
 "nbformat": 4,
 "nbformat_minor": 4
}
